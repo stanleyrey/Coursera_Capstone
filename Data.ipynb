{
 "cells": [
  {
   "cell_type": "markdown",
   "metadata": {},
   "source": [
    "<H2>Data<H2>\n",
    "<H3>1. Data Sources<H3>\n",
    "<H5>To acquire the housing price around target metropolitan, the prices data based on neighborhood from Zillow was utilized targetting for 1 bedroom 1 bathroom apartment purchase. The home price increasing data was also accquired from Zillow. On the other aspect, venue data was requested from Foursquare for the estimate of neighborhood venues.<H5>\n",
    "<H3>2. Data cleaning<H3>\n",
    "<H5>After downloading data from Zillow data website https://www.zillow.com/research/data/, only interested data of Minneapolis-St. Paul-Bloomington metropolitan were kept for following analysis.<H5>\n",
    "<H5>On Zillow housing data sets, there're some neighborhoods of which either housing prices or value increasing data are not shown. For the accuracy of the analysis, such data lacking neighborhoods were excluded that unknown parameters will not be guaranteed to meet the requirements. The historical data were also ignored, and only 2019 Zillow data were extracted for accurary purpose.<H5>\n",
    "<H5>On Zillow housing data sets, there're some neighborhoods of which either housing prices or value increasing data are not shown. For the accuracy of the analysis, such data lacking neighborhoods were excluded that unknown parameters will not be guaranteed to meet the requirements. The historical data were also ignored, and only 2019 Zillow data were extracted for accurary purpose.<H5>"
   ]
  },
  {
   "cell_type": "markdown",
   "metadata": {},
   "source": []
  }
 ],
 "metadata": {
  "kernelspec": {
   "display_name": "Python 3",
   "language": "python",
   "name": "python3"
  },
  "language_info": {
   "codemirror_mode": {
    "name": "ipython",
    "version": 3
   },
   "file_extension": ".py",
   "mimetype": "text/x-python",
   "name": "python",
   "nbconvert_exporter": "python",
   "pygments_lexer": "ipython3",
   "version": "3.6.8"
  }
 },
 "nbformat": 4,
 "nbformat_minor": 2
}
